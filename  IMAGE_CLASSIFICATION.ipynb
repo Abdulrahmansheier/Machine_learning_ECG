{
  "cells": [
    {
      "cell_type": "markdown",
      "metadata": {
        "id": "view-in-github",
        "colab_type": "text"
      },
      "source": [
        "<a href=\"https://colab.research.google.com/github/Abdulrahmansheier/Machine_learning_ECG/blob/main/%20IMAGE_CLASSIFICATION.ipynb\" target=\"_parent\"><img src=\"https://colab.research.google.com/assets/colab-badge.svg\" alt=\"Open In Colab\"/></a>"
      ]
    },
    {
      "cell_type": "markdown",
      "metadata": {
        "id": "NyDkzihu19ri"
      },
      "source": [
        "# TASK 2: IMAGE CLASSIFICATION\n",
        "The aim is to classify blood cell images into one of four classes. The procedures for training, testing, and evaluating the CNN model are implemented in this notebook."
      ]
    },
    {
      "cell_type": "markdown",
      "metadata": {
        "id": "faQ-dZgzYmLU"
      },
      "source": [
        "# Importing the libraries."
      ]
    },
    {
      "cell_type": "code",
      "execution_count": null,
      "metadata": {
        "id": "9fChdD29Vt-e"
      },
      "outputs": [],
      "source": [
        "# Importing the libraries\n",
        "import numpy as np\n",
        "import matplotlib.pyplot as plt\n",
        "import pandas as pd\n",
        "import os\n",
        "import random\n",
        "import pickle\n",
        "import tensorflow as tf\n",
        "from tensorflow.keras import layers\n",
        "from tensorflow import keras\n",
        "\n",
        "# Importing the Keras libraries and packages\n",
        "from keras.models import Sequential\n",
        "from keras.preprocessing.image import ImageDataGenerator\n",
        "from keras.preprocessing import image\n",
        "from keras.callbacks import ModelCheckpoint\n",
        "from keras.callbacks import EarlyStopping\n",
        "from keras.layers import Convolution2D\n",
        "from keras.layers import MaxPooling2D\n",
        "from keras.layers import Flatten\n",
        "from keras.layers import Dense\n",
        "from keras.layers import Dropout\n"
      ]
    },
    {
      "cell_type": "markdown",
      "metadata": {
        "id": "ZZ_7kPBPGCpp"
      },
      "source": [
        "Now, we assign the train and test sets"
      ]
    },
    {
      "cell_type": "code",
      "execution_count": null,
      "metadata": {
        "id": "s6FQkDJpVt-l"
      },
      "outputs": [],
      "source": [
        "# locating training dataset and testing dataset\n",
        "dataset_dir = 'blood_cell_data'\n",
        "train = os.path.join(dataset_dir, 'TRAIN')\n",
        "test = os.path.join(dataset_dir, 'TEST')"
      ]
    },
    {
      "cell_type": "markdown",
      "metadata": {
        "id": "jx6majv4Vt-l"
      },
      "source": [
        "### Loading the Images\n"
      ]
    },
    {
      "cell_type": "code",
      "execution_count": null,
      "metadata": {
        "id": "LMDLbaQXVt-n"
      },
      "outputs": [],
      "source": [
        "\n",
        "#specs of the images\n",
        "train_batch_size = 52\n",
        "test_batch_size = 52\n",
        "img_height = 180\n",
        "img_width = 180\n",
        "\n"
      ]
    },
    {
      "cell_type": "markdown",
      "metadata": {
        "id": "4Mlwrim0GZEs"
      },
      "source": [
        "## --- importing the data for training ---"
      ]
    },
    {
      "cell_type": "code",
      "execution_count": null,
      "metadata": {
        "colab": {
          "base_uri": "https://localhost:8080/"
        },
        "id": "epcouU7SVt-p",
        "outputId": "6e450fd3-dd0b-4ec8-c92e-21853629991e"
      },
      "outputs": [
        {
          "name": "stdout",
          "output_type": "stream",
          "text": [
            "Found 71 files belonging to 4 classes.\n"
          ]
        }
      ],
      "source": [
        "test = tf.keras.utils.image_dataset_from_directory(\n",
        "    test,\n",
        "    labels='inferred',\n",
        "    label_mode='int',\n",
        "    classNames=['EOSINOPHIL','LYMPHOCYTE','MONOCYTE','NEUTROPHIL'],\n",
        "    color_mode='rgb',\n",
        "    batch_size=test_batch_size,\n",
        "    image_size=(img_height, img_width),\n",
        "    shuffle=True,\n",
        "\n",
        ")\n",
        "classNames = train.classNames\n",
        "print(classNames)"
      ]
    },
    {
      "cell_type": "code",
      "execution_count": null,
      "metadata": {
        "colab": {
          "base_uri": "https://localhost:8080/"
        },
        "id": "BbjlPSTPVt-s",
        "outputId": "54c48b76-c63f-4d1e-f3e4-709f942ce2b1"
      },
      "outputs": [
        {
          "data": {
            "text/plain": [
              "TensorShape([64, 180, 180, 3])"
            ]
          },
          "execution_count": 111,
          "metadata": {},
          "output_type": "execute_result"
        }
      ],
      "source": [
        "# here i have done both the train and test the same way of implementation\n",
        "# Since we are working with tensor ill have to convert the images\n",
        "\n",
        "for x_train, y_train in train:\n",
        "  break\n",
        "\n",
        "\n",
        "for x_test, y_test in test:\n",
        "  break\n",
        "\n",
        "\n",
        "x_train.shape"
      ]
    },
    {
      "cell_type": "markdown",
      "metadata": {
        "id": "rKwvDL8sHhcw"
      },
      "source": [
        "### Data Visualization"
      ]
    },
    {
      "cell_type": "code",
      "execution_count": null,
      "metadata": {
        "id": "z7wkprxh2BiA"
      },
      "outputs": [],
      "source": [
        "plt.figure(figsize=(10, 10))\n",
        "for images, labels in train.take(1):\n",
        "  for i in range(9):\n",
        "    ax = plt.subplot(3, 3, i + 1)\n",
        "    plt.imshow(images[i].numpy().astype(\"uint8\"))\n",
        "    plt.title(classNames[labels[i]])\n",
        "    plt.axis(\"off\")"
      ]
    },
    {
      "cell_type": "code",
      "execution_count": null,
      "metadata": {
        "id": "Tszn_9Ie2Q3D"
      },
      "outputs": [],
      "source": [
        "# ---  the main reason of implementing the autotune here so i can use the images in the future ---\n",
        "\n",
        "AUTOTUNE = tf.data.AUTOTUNE\n",
        "\n",
        "train = train.cache().shuffle(1000).prefetch(buffer_size=AUTOTUNE)\n",
        "test = test.cache().prefetch(buffer_size=AUTOTUNE)\n",
        "\n"
      ]
    },
    {
      "cell_type": "markdown",
      "metadata": {
        "id": "3DwLZof8Vt-s"
      },
      "source": [
        "### Standardization\n"
      ]
    },
    {
      "cell_type": "code",
      "execution_count": null,
      "metadata": {
        "colab": {
          "base_uri": "https://localhost:8080/"
        },
        "id": "-D69klO3Vt-t",
        "outputId": "b05c9ae7-1fac-423b-b7b1-2b93718a1e1c"
      },
      "outputs": [
        {
          "name": "stdout",
          "output_type": "stream",
          "text": [
            "0.2905228 0.9663398\n"
          ]
        }
      ],
      "source": [
        "# making the input layer smaller\n",
        "\n",
        "normalization = layers.Rescaling(1./255)\n",
        "\n",
        "normalized_test = test.map(lambda x, y: (normalization(x), y))\n",
        "image_batch, labels_batch = next(iter(normalized_test))\n",
        "first_image = image_batch[0]\n",
        "# Notice the pixel values are now in `[0,1]`.\n",
        "print(np.min(first_image), np.max(first_image))"
      ]
    },
    {
      "cell_type": "markdown",
      "metadata": {
        "id": "ZpWLX3ExH_E9"
      },
      "source": [
        "### Building the Model\n"
      ]
    },
    {
      "cell_type": "code",
      "execution_count": null,
      "metadata": {
        "id": "G8abYF_kVt-t"
      },
      "outputs": [],
      "source": [
        "num_classes = len(classNames)\n",
        "#The rescaling preprocessing layer\n",
        "model = Sequential([\n",
        "                      layers.Rescaling(1./255, input_shape=(img_height, img_width, 3)),\n",
        "                      layers.Conv2D(16, 3, padding='same', activation='relu'),\n",
        "                      layers.MaxPooling2D(pool_size=2, strides=2), #Downsamples the input along its spatial dimensions\n",
        "\n",
        "                      layers.Conv2D(32, 3, padding='same', activation='relu'),\n",
        "                      layers.MaxPooling2D(pool_size=2, strides=2),\n",
        "                      layers.Dropout(0.2),\n",
        "\n",
        "                      layers.Conv2D(32, 3, padding='same', activation='relu'),\n",
        "                      layers.MaxPooling2D(pool_size=2, strides=2),\n",
        "\n",
        "                      layers.Conv2D(32, 3, padding='same', activation='relu'),\n",
        "                      layers.MaxPooling2D(pool_size=2, strides=2),\n",
        "                      layers.Dropout(0.2),\n",
        "\n",
        "                      layers.Conv2D(64, 3, padding='same', activation='relu'),\n",
        "                      layers.MaxPooling2D(pool_size=2, strides=2),\n",
        "                      layers.Dropout(0.2),\n",
        "\n",
        "\n",
        "                      layers.Dense(128, activation='relu'),\n",
        "                      layers.Flatten(),\n",
        "                      layers.Dense(128, activation='relu'),  # here, we added a dense fully connected layer\n",
        "                      layers.Dense(num_classes,activation='softmax')      # This dense layer produces probability values for the 2 classes\n",
        "\n",
        "])\n"
      ]
    },
    {
      "cell_type": "markdown",
      "metadata": {
        "id": "QdPeYeeUIZ8z"
      },
      "source": [
        "The model was compiled using SparsecategoricalCrossentropy and adam optimizer."
      ]
    },
    {
      "cell_type": "code",
      "execution_count": null,
      "metadata": {
        "id": "6U8I-ZYcVt-t"
      },
      "outputs": [],
      "source": [
        "# Compiling the CNN\n",
        "model.compile(optimizer='adam',\n",
        "              loss=tf.keras.losses.SparseCategoricalCrossentropy(from_logits=True),\n",
        "              metrics=['accuracy'])\n",
        "\n"
      ]
    },
    {
      "cell_type": "code",
      "execution_count": null,
      "metadata": {
        "id": "j09gL5QYVt-u"
      },
      "outputs": [],
      "source": [
        "model.summary()"
      ]
    },
    {
      "cell_type": "markdown",
      "metadata": {
        "id": "TRnkf5GCLj-u"
      },
      "source": [
        "fitting the model"
      ]
    },
    {
      "cell_type": "code",
      "execution_count": null,
      "metadata": {
        "id": "VNUa77UEVt-u"
      },
      "outputs": [],
      "source": [
        "# Fitting the CNN to the images\n",
        "epochs=200\n",
        "\n",
        "history = model.fit(x_train,y_train, validation_split=0.1, epochs=epochs\n",
        "          )"
      ]
    },
    {
      "cell_type": "code",
      "execution_count": null,
      "metadata": {
        "id": "W0TFFoPaVt-u"
      },
      "outputs": [],
      "source": [
        "accur = history.history['accuracy']\n",
        "val_acc = history.history['val_accuracy']\n",
        "\n",
        "loss = history.history['loss']\n",
        "val_loss = history.history['val_loss']\n",
        "\n",
        "epochs_range = range(len(accur))\n",
        "\n",
        "plt.figure(figsize=(8, 6))\n",
        "plt.subplot(1, 2, 1)\n",
        "plt.plot(epochs_range, accur, label='Training Accuracy')\n",
        "plt.plot(epochs_range, val_acc, label='Validation Accuracy')\n",
        "plt.legend(loc='lower right')\n",
        "plt.title('Training vs Validation Accuracy')\n",
        "\n",
        "plt.subplot(1, 2, 2)\n",
        "plt.plot(epochs_range, loss, label='Training Loss')\n",
        "plt.plot(epochs_range, val_loss, label='Validation Loss')\n",
        "plt.legend(loc='upper right')\n",
        "plt.title('Training vs Validation Loss')\n",
        "plt.show()\n"
      ]
    },
    {
      "cell_type": "markdown",
      "metadata": {
        "id": "ZRNMgJsxL2ew"
      },
      "source": [
        "# data augmentation"
      ]
    },
    {
      "cell_type": "code",
      "execution_count": null,
      "metadata": {
        "id": "OglzrJ-U4wYg"
      },
      "outputs": [],
      "source": [
        "data_augmentation = keras.Sequential(\n",
        "  [\n",
        "    layers.RandomFlip(\"horizontal\",\n",
        "                      input_shape=(img_height,\n",
        "                                  img_width,\n",
        "                                  3)),\n",
        "    layers.RandomRotation(0.1),\n",
        "    layers.RandomZoom(0.1),\n",
        "  ]\n",
        ")"
      ]
    },
    {
      "cell_type": "markdown",
      "metadata": {
        "id": "4KHaPdJJMGJy"
      },
      "source": [
        "same model applied as above, only with the input layer replaced with the data augmentation."
      ]
    },
    {
      "cell_type": "code",
      "execution_count": null,
      "metadata": {
        "id": "VfHwGm3Y5TVH"
      },
      "outputs": [],
      "source": [
        "model = Sequential([\n",
        "                      data_augmentation,\n",
        "                      layers.Conv2D(16, 3, padding='same', activation='relu'),\n",
        "                      layers.MaxPooling2D(pool_size=2, strides=2), #Downsamples the input along its spatial dimensions\n",
        "\n",
        "                      layers.Conv2D(32, 3, padding='same', activation='relu'),\n",
        "                      layers.MaxPooling2D(pool_size=2, strides=2),\n",
        "                      layers.Dropout(0.2),\n",
        "\n",
        "                      layers.Conv2D(32, 3, padding='same', activation='relu'),\n",
        "                      layers.MaxPooling2D(pool_size=2, strides=2),\n",
        "\n",
        "                      layers.Conv2D(32, 3, padding='same', activation='relu'),\n",
        "                      layers.MaxPooling2D(pool_size=2, strides=2),\n",
        "                      layers.Dropout(0.2),\n",
        "\n",
        "                      layers.Conv2D(64, 3, padding='same', activation='relu'),\n",
        "                      layers.MaxPooling2D(pool_size=2, strides=2),\n",
        "                      layers.Dropout(0.2),\n",
        "\n",
        "                      layers.Flatten(),\n",
        "                      layers.Dense(64, activation='relu'),\n",
        "                      layers.Flatten(),\n",
        "                      layers.Dense(128, activation='relu'),  # here, we added a dense fully connected layer\n",
        "                      layers.Dense(num_classes,activation='softmax')      # This dense layer produces probability values for the 2 classes\n",
        "\n",
        "])"
      ]
    },
    {
      "cell_type": "markdown",
      "metadata": {
        "id": "-vRTUEOlMQzR"
      },
      "source": [
        "Compilation redone"
      ]
    },
    {
      "cell_type": "code",
      "execution_count": null,
      "metadata": {
        "id": "HV-C2YVy5p3c"
      },
      "outputs": [],
      "source": [
        "# Compiling the CNN\n",
        "model.compile(optimizer='adam',\n",
        "              loss=tf.keras.losses.SparseCategoricalCrossentropy(from_logits=True),\n",
        "              metrics=['accuracy'])"
      ]
    },
    {
      "cell_type": "markdown",
      "metadata": {
        "id": "qaq6FkeZMUTp"
      },
      "source": [
        "fiting the model"
      ]
    },
    {
      "cell_type": "code",
      "execution_count": null,
      "metadata": {
        "id": "T8-FUnuHY98W"
      },
      "outputs": [],
      "source": [
        "# Fitting the CNN to the images\n",
        "epochs=100\n",
        "\n",
        "history = model.fit(x_train,y_train, validation_split=0.1, epochs=epochs\n",
        "          )"
      ]
    },
    {
      "cell_type": "code",
      "execution_count": null,
      "metadata": {
        "id": "417zfznwZZGL"
      },
      "outputs": [],
      "source": [
        "accur = history.history['accuracy']\n",
        "val_acc = history.history['val_accuracy']\n",
        "\n",
        "loss = history.history['loss']\n",
        "val_loss = history.history['val_loss']\n",
        "\n",
        "epochs_range = range(len(accur))\n",
        "\n",
        "plt.figure(figsize=(8, 6))\n",
        "plt.subplot(1, 2, 1)\n",
        "plt.plot(epochs_range, accur, label='Training Accuracy')\n",
        "plt.plot(epochs_range, val_acc, label='Validation Accuracy')\n",
        "plt.legend(loc='lower right')\n",
        "plt.title('Training vs Validation Accuracy')\n",
        "\n",
        "plt.subplot(1, 2, 2)\n",
        "plt.plot(epochs_range, loss, label='Training Loss')\n",
        "plt.plot(epochs_range, val_loss, label='Validation Loss')\n",
        "plt.legend(loc='upper right')\n",
        "plt.title('Training vs Validation Loss')\n",
        "plt.show()\n"
      ]
    },
    {
      "cell_type": "code",
      "execution_count": null,
      "metadata": {
        "colab": {
          "base_uri": "https://localhost:8080/"
        },
        "id": "sQ0l8KJl1mbc",
        "outputId": "d8d29b16-0199-4ed7-b219-d1e6e46a063e"
      },
      "outputs": [
        {
          "name": "stderr",
          "output_type": "stream",
          "text": [
            "WARNING:tensorflow:5 out of the last 11 calls to <function Model.make_predict_function.<locals>.predict_function at 0x7fe6e2e55d40> triggered tf.function retracing. Tracing is expensive and the excessive number of tracings could be due to (1) creating @tf.function repeatedly in a loop, (2) passing tensors with different shapes, (3) passing Python objects instead of tensors. For (1), please define your @tf.function outside of the loop. For (2), @tf.function has reduce_retracing=True option that can avoid unnecessary retracing. For (3), please refer to https://www.tensorflow.org/guide/function#controlling_retracing and https://www.tensorflow.org/api_docs/python/tf/function for  more details.\n"
          ]
        },
        {
          "name": "stdout",
          "output_type": "stream",
          "text": [
            "2/2 [==============================] - 0s 11ms/step\n",
            "maximum value of the prediction:  0.4063079\n"
          ]
        }
      ],
      "source": [
        "# rounded_predictions = model.predict_classes(x_test, batch_size=128, verbose=0)\n",
        "\n",
        "score = tf.nn.softmax(model.predict(x_test))\n",
        "print('maximum value of the prediction: ', np.max(score))"
      ]
    },
    {
      "cell_type": "markdown",
      "metadata": {
        "id": "VIxX391-MoKP"
      },
      "source": [
        "# confusion matrics"
      ]
    },
    {
      "cell_type": "code",
      "execution_count": null,
      "metadata": {
        "id": "FbxP-DS_1mbd"
      },
      "outputs": [],
      "source": [
        "#confusion matrix\n",
        "from sklearn.metrics import confusion_matrix\n",
        "import itertools\n",
        "\n",
        "y_pred = model.predict(x_test)\n",
        "y_pred_classes = np.argmax(y_pred,axis = 1)\n",
        "y_true = y_test\n",
        "confusion_mtx = confusion_matrix(y_true, y_pred_classes)\n",
        "confusion_mtx\n"
      ]
    },
    {
      "cell_type": "markdown",
      "metadata": {
        "id": "OFX1FFsEMsc2"
      },
      "source": [
        "We plot the confusion matrix."
      ]
    },
    {
      "cell_type": "code",
      "execution_count": null,
      "metadata": {
        "id": "8TnPrit11mbd"
      },
      "outputs": [],
      "source": [
        "#plotting the confusion matrix\n",
        "import seaborn as sns\n",
        "f,ax = plt.subplots(figsize=(8, 8))\n",
        "sns.heatmap(confusion_mtx, annot=True, linewidths=0.01,cmap=\"Greens\",linecolor=\"gray\", fmt= '.1f',ax=ax)\n",
        "plt.xlabel(\"Predicted Label\")\n",
        "plt.ylabel(\"True Label\")\n",
        "plt.title(\"Confusion Matrix\")\n",
        "plt.show()\n"
      ]
    },
    {
      "cell_type": "code",
      "execution_count": null,
      "metadata": {
        "id": "2ocsfJV01mbd"
      },
      "outputs": [],
      "source": [
        "#print classification report\n",
        "from sklearn.metrics import classification_report\n",
        "target_names = [\"Class {}\".format(i) for i in range(num_classes)]\n",
        "print(classification_report(y_true, y_pred_classes, target_names=target_names))\n",
        "\n"
      ]
    },
    {
      "cell_type": "markdown",
      "metadata": {
        "id": "SeQPsu0CMw9t"
      },
      "source": [
        "# CONCLUSION\n",
        "![image.png](data:image/png;base64,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)"
      ]
    },
    {
      "cell_type": "code",
      "execution_count": null,
      "metadata": {
        "id": "lNysa9SeAAA-"
      },
      "outputs": [],
      "source": [
        "# print(y_test)"
      ]
    }
  ],
  "metadata": {
    "accelerator": "GPU",
    "colab": {
      "machine_shape": "hm",
      "provenance": [],
      "include_colab_link": true
    },
    "gpuClass": "standard",
    "kernelspec": {
      "display_name": "Python 3 (ipykernel)",
      "language": "python",
      "name": "python3"
    },
    "language_info": {
      "codemirror_mode": {
        "name": "ipython",
        "version": 3
      },
      "file_extension": ".py",
      "mimetype": "text/x-python",
      "name": "python",
      "nbconvert_exporter": "python",
      "pygments_lexer": "ipython3",
      "version": "3.9.12"
    },
    "vscode": {
      "interpreter": {
        "hash": "a86e092201f9adc74569a6bf4720f2d94b863a2d2fcc5a54a2a2196ecea00fda"
      }
    }
  },
  "nbformat": 4,
  "nbformat_minor": 0
}